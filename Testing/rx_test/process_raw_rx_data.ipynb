{
 "cells": [
  {
   "cell_type": "markdown",
   "metadata": {},
   "source": [
    "# Process Raw RX Data\n",
    "\n",
    "The raw_rx_data folder contains the data logged by the receiver during testing and the timing data for each test setup. This notebook processes that data to label the TX brightness levels (min, mid, max) and selects the valid data points (received signals inbetween test setups are discarded)."
   ]
  },
  {
   "cell_type": "code",
   "execution_count": 1,
   "metadata": {},
   "outputs": [],
   "source": [
    "import pandas as pd\n",
    "import numpy as np\n",
    "from datetime import timedelta, datetime"
   ]
  },
  {
   "cell_type": "markdown",
   "metadata": {},
   "source": [
    "Select data file and test setup timing file:|"
   ]
  },
  {
   "cell_type": "code",
   "execution_count": 2,
   "metadata": {},
   "outputs": [],
   "source": [
    "data_path = 'raw_rx_data/LOG_23_corridor_ir_led.csv'\n",
    "timing_path = 'raw_rx_data/timing_corridor_ir_led.csv'"
   ]
  },
  {
   "cell_type": "code",
   "execution_count": 3,
   "metadata": {},
   "outputs": [],
   "source": [
    "data = pd.read_csv(data_path)\n",
    "\n",
    "data['diff'] = data['local'] - data['received']         #calculate time difference in milliseconds\n",
    "data['ts'] = pd.to_datetime(data['local'], unit='ms')\n",
    "data.set_index('ts', inplace=True)"
   ]
  },
  {
   "cell_type": "code",
   "execution_count": 4,
   "metadata": {},
   "outputs": [
    {
     "output_type": "execute_result",
     "data": {
      "text/plain": "                                 local       received  diff  correction  \\\nts                                                                        \n2020-06-01 10:03:10.453  1591005790453  1591005790424    29          80   \n2020-06-01 10:03:10.980  1591005790980  1591005790931    49          87   \n2020-06-01 10:03:11.455  1591005791455  1591005791427    28          83   \n2020-06-01 10:03:12.455  1591005792455  1591005792427    28          83   \n2020-06-01 10:03:12.957  1591005792957  1591005792929    28          85   \n\n                         header_duration0  header_duration1  high_min  \\\nts                                                                      \n2020-06-01 10:03:10.453              7209              3610       432   \n2020-06-01 10:03:10.980              7192              3627       398   \n2020-06-01 10:03:11.455              7239              3559       456   \n2020-06-01 10:03:12.455              7210              3609       433   \n2020-06-01 10:03:12.957              7235              3564       453   \n\n                         high_max  low_short_min  low_short_max  low_long_min  \\\nts                                                                              \n2020-06-01 10:03:10.453       480            404            472          1349   \n2020-06-01 10:03:10.980       478            407            495          1350   \n2020-06-01 10:03:11.455       502            401            449          1305   \n2020-06-01 10:03:12.455       479            422            471          1335   \n2020-06-01 10:03:12.957       526            379            451          1306   \n\n                         low_long_max  high_avg  low_short_avg  low_long_avg  \nts                                                                            \n2020-06-01 10:03:10.453          1377       446            444          1359  \n2020-06-01 10:03:10.980          1398       423            470          1374  \n2020-06-01 10:03:11.455          1334       480            414          1317  \n2020-06-01 10:03:12.455          1375       446            445          1356  \n2020-06-01 10:03:12.957          1355       476            419          1319  ",
      "text/html": "<div>\n<style scoped>\n    .dataframe tbody tr th:only-of-type {\n        vertical-align: middle;\n    }\n\n    .dataframe tbody tr th {\n        vertical-align: top;\n    }\n\n    .dataframe thead th {\n        text-align: right;\n    }\n</style>\n<table border=\"1\" class=\"dataframe\">\n  <thead>\n    <tr style=\"text-align: right;\">\n      <th></th>\n      <th>local</th>\n      <th>received</th>\n      <th>diff</th>\n      <th>correction</th>\n      <th>header_duration0</th>\n      <th>header_duration1</th>\n      <th>high_min</th>\n      <th>high_max</th>\n      <th>low_short_min</th>\n      <th>low_short_max</th>\n      <th>low_long_min</th>\n      <th>low_long_max</th>\n      <th>high_avg</th>\n      <th>low_short_avg</th>\n      <th>low_long_avg</th>\n    </tr>\n    <tr>\n      <th>ts</th>\n      <th></th>\n      <th></th>\n      <th></th>\n      <th></th>\n      <th></th>\n      <th></th>\n      <th></th>\n      <th></th>\n      <th></th>\n      <th></th>\n      <th></th>\n      <th></th>\n      <th></th>\n      <th></th>\n      <th></th>\n    </tr>\n  </thead>\n  <tbody>\n    <tr>\n      <th>2020-06-01 10:03:10.453</th>\n      <td>1591005790453</td>\n      <td>1591005790424</td>\n      <td>29</td>\n      <td>80</td>\n      <td>7209</td>\n      <td>3610</td>\n      <td>432</td>\n      <td>480</td>\n      <td>404</td>\n      <td>472</td>\n      <td>1349</td>\n      <td>1377</td>\n      <td>446</td>\n      <td>444</td>\n      <td>1359</td>\n    </tr>\n    <tr>\n      <th>2020-06-01 10:03:10.980</th>\n      <td>1591005790980</td>\n      <td>1591005790931</td>\n      <td>49</td>\n      <td>87</td>\n      <td>7192</td>\n      <td>3627</td>\n      <td>398</td>\n      <td>478</td>\n      <td>407</td>\n      <td>495</td>\n      <td>1350</td>\n      <td>1398</td>\n      <td>423</td>\n      <td>470</td>\n      <td>1374</td>\n    </tr>\n    <tr>\n      <th>2020-06-01 10:03:11.455</th>\n      <td>1591005791455</td>\n      <td>1591005791427</td>\n      <td>28</td>\n      <td>83</td>\n      <td>7239</td>\n      <td>3559</td>\n      <td>456</td>\n      <td>502</td>\n      <td>401</td>\n      <td>449</td>\n      <td>1305</td>\n      <td>1334</td>\n      <td>480</td>\n      <td>414</td>\n      <td>1317</td>\n    </tr>\n    <tr>\n      <th>2020-06-01 10:03:12.455</th>\n      <td>1591005792455</td>\n      <td>1591005792427</td>\n      <td>28</td>\n      <td>83</td>\n      <td>7210</td>\n      <td>3609</td>\n      <td>433</td>\n      <td>479</td>\n      <td>422</td>\n      <td>471</td>\n      <td>1335</td>\n      <td>1375</td>\n      <td>446</td>\n      <td>445</td>\n      <td>1356</td>\n    </tr>\n    <tr>\n      <th>2020-06-01 10:03:12.957</th>\n      <td>1591005792957</td>\n      <td>1591005792929</td>\n      <td>28</td>\n      <td>85</td>\n      <td>7235</td>\n      <td>3564</td>\n      <td>453</td>\n      <td>526</td>\n      <td>379</td>\n      <td>451</td>\n      <td>1306</td>\n      <td>1355</td>\n      <td>476</td>\n      <td>419</td>\n      <td>1319</td>\n    </tr>\n  </tbody>\n</table>\n</div>"
     },
     "metadata": {},
     "execution_count": 4
    }
   ],
   "source": [
    "data.head()"
   ]
  },
  {
   "cell_type": "markdown",
   "metadata": {},
   "source": [
    "Label each received timestamp with the transmit brigthness (min, mid,max). Transmit pattern: min - 0.5s - mid - 0.5s - max - 1s"
   ]
  },
  {
   "cell_type": "code",
   "execution_count": 5,
   "metadata": {},
   "outputs": [],
   "source": [
    "i = 0\n",
    "min_ms = data['local'][i]\n",
    "mid_ms = data['local'][i+1]\n",
    "max_ms = data['local'][i+2]\n",
    "data['brightness'] = \"\"\n",
    "data.loc[(((data['local'] - min_ms) % 2000 - 1000).abs() - 1000).abs() < 100, 'brightness'] = 'min'\n",
    "data.loc[(((data['local'] - mid_ms) % 2000 - 1000).abs() - 1000).abs() < 100, 'brightness'] = 'mid'\n",
    "data.loc[(((data['local'] - max_ms) % 2000 - 1000).abs() - 1000).abs() < 100, 'brightness'] = 'max'"
   ]
  },
  {
   "cell_type": "markdown",
   "metadata": {},
   "source": [
    "Get start and end time of each test setup. Align start and end time so that an equal number of timestamps is transmitted at each brightness for a given test setup."
   ]
  },
  {
   "cell_type": "code",
   "execution_count": 6,
   "metadata": {},
   "outputs": [
    {
     "output_type": "execute_result",
     "data": {
      "text/plain": "    location           light  orientation  distance     start time  \\\n0   corridor  lamp + 10mA IR            0       0.5  1591006678271   \n1   corridor  lamp + 10mA IR            0       1.0  1591006763148   \n2   corridor  lamp + 10mA IR            0       2.0  1591006849188   \n3   corridor  lamp + 10mA IR            0       3.0  1591006933334   \n4   corridor  lamp + 10mA IR            0       4.0  1591007014025   \n5   corridor  lamp + 10mA IR            0       5.0  1591007099703   \n6   corridor  lamp + 50mA IR            0       0.5  1591006583120   \n7   corridor  lamp + 50mA IR            0       1.0  1591006502643   \n8   corridor  lamp + 50mA IR            0       2.0  1591006409169   \n9   corridor  lamp + 50mA IR            0       3.0  1591006322666   \n10  corridor  lamp + 50mA IR            0       4.0  1591006226599   \n11  corridor  lamp + 50mA IR            0       5.0  1591006139462   \n\n         end time  Unnamed: 6  aligned_start_ms  aligned_end_ms  \\\n0   1591006739463          61     1591006678353   1591006739555   \n1   1591006830009          67     1591006764353   1591006829555   \n2   1591006913890          65     1591006850353   1591006913555   \n3   1591006997701          64     1591006934353   1591006997555   \n4   1591007080867          67     1591007014353   1591007079555   \n5   1591007173895          74     1591007100353   1591007173555   \n6   1591006645357          62     1591006584353   1591006643555   \n7   1591006564269          62     1591006504353   1591006563555   \n8   1591006475297          66     1591006410353   1591006473555   \n9   1591006391426          69     1591006324353   1591006389555   \n10  1591006301900          75     1591006228353   1591006301555   \n11  1591006202667          63     1591006140353   1591006201555   \n\n                  start_ts                  end_ts  \n0  2020-06-01 10:17:58.353 2020-06-01 10:18:59.555  \n1  2020-06-01 10:19:24.353 2020-06-01 10:20:29.555  \n2  2020-06-01 10:20:50.353 2020-06-01 10:21:53.555  \n3  2020-06-01 10:22:14.353 2020-06-01 10:23:17.555  \n4  2020-06-01 10:23:34.353 2020-06-01 10:24:39.555  \n5  2020-06-01 10:25:00.353 2020-06-01 10:26:13.555  \n6  2020-06-01 10:16:24.353 2020-06-01 10:17:23.555  \n7  2020-06-01 10:15:04.353 2020-06-01 10:16:03.555  \n8  2020-06-01 10:13:30.353 2020-06-01 10:14:33.555  \n9  2020-06-01 10:12:04.353 2020-06-01 10:13:09.555  \n10 2020-06-01 10:10:28.353 2020-06-01 10:11:41.555  \n11 2020-06-01 10:09:00.353 2020-06-01 10:10:01.555  ",
      "text/html": "<div>\n<style scoped>\n    .dataframe tbody tr th:only-of-type {\n        vertical-align: middle;\n    }\n\n    .dataframe tbody tr th {\n        vertical-align: top;\n    }\n\n    .dataframe thead th {\n        text-align: right;\n    }\n</style>\n<table border=\"1\" class=\"dataframe\">\n  <thead>\n    <tr style=\"text-align: right;\">\n      <th></th>\n      <th>location</th>\n      <th>light</th>\n      <th>orientation</th>\n      <th>distance</th>\n      <th>start time</th>\n      <th>end time</th>\n      <th>Unnamed: 6</th>\n      <th>aligned_start_ms</th>\n      <th>aligned_end_ms</th>\n      <th>start_ts</th>\n      <th>end_ts</th>\n    </tr>\n  </thead>\n  <tbody>\n    <tr>\n      <th>0</th>\n      <td>corridor</td>\n      <td>lamp + 10mA IR</td>\n      <td>0</td>\n      <td>0.5</td>\n      <td>1591006678271</td>\n      <td>1591006739463</td>\n      <td>61</td>\n      <td>1591006678353</td>\n      <td>1591006739555</td>\n      <td>2020-06-01 10:17:58.353</td>\n      <td>2020-06-01 10:18:59.555</td>\n    </tr>\n    <tr>\n      <th>1</th>\n      <td>corridor</td>\n      <td>lamp + 10mA IR</td>\n      <td>0</td>\n      <td>1.0</td>\n      <td>1591006763148</td>\n      <td>1591006830009</td>\n      <td>67</td>\n      <td>1591006764353</td>\n      <td>1591006829555</td>\n      <td>2020-06-01 10:19:24.353</td>\n      <td>2020-06-01 10:20:29.555</td>\n    </tr>\n    <tr>\n      <th>2</th>\n      <td>corridor</td>\n      <td>lamp + 10mA IR</td>\n      <td>0</td>\n      <td>2.0</td>\n      <td>1591006849188</td>\n      <td>1591006913890</td>\n      <td>65</td>\n      <td>1591006850353</td>\n      <td>1591006913555</td>\n      <td>2020-06-01 10:20:50.353</td>\n      <td>2020-06-01 10:21:53.555</td>\n    </tr>\n    <tr>\n      <th>3</th>\n      <td>corridor</td>\n      <td>lamp + 10mA IR</td>\n      <td>0</td>\n      <td>3.0</td>\n      <td>1591006933334</td>\n      <td>1591006997701</td>\n      <td>64</td>\n      <td>1591006934353</td>\n      <td>1591006997555</td>\n      <td>2020-06-01 10:22:14.353</td>\n      <td>2020-06-01 10:23:17.555</td>\n    </tr>\n    <tr>\n      <th>4</th>\n      <td>corridor</td>\n      <td>lamp + 10mA IR</td>\n      <td>0</td>\n      <td>4.0</td>\n      <td>1591007014025</td>\n      <td>1591007080867</td>\n      <td>67</td>\n      <td>1591007014353</td>\n      <td>1591007079555</td>\n      <td>2020-06-01 10:23:34.353</td>\n      <td>2020-06-01 10:24:39.555</td>\n    </tr>\n    <tr>\n      <th>5</th>\n      <td>corridor</td>\n      <td>lamp + 10mA IR</td>\n      <td>0</td>\n      <td>5.0</td>\n      <td>1591007099703</td>\n      <td>1591007173895</td>\n      <td>74</td>\n      <td>1591007100353</td>\n      <td>1591007173555</td>\n      <td>2020-06-01 10:25:00.353</td>\n      <td>2020-06-01 10:26:13.555</td>\n    </tr>\n    <tr>\n      <th>6</th>\n      <td>corridor</td>\n      <td>lamp + 50mA IR</td>\n      <td>0</td>\n      <td>0.5</td>\n      <td>1591006583120</td>\n      <td>1591006645357</td>\n      <td>62</td>\n      <td>1591006584353</td>\n      <td>1591006643555</td>\n      <td>2020-06-01 10:16:24.353</td>\n      <td>2020-06-01 10:17:23.555</td>\n    </tr>\n    <tr>\n      <th>7</th>\n      <td>corridor</td>\n      <td>lamp + 50mA IR</td>\n      <td>0</td>\n      <td>1.0</td>\n      <td>1591006502643</td>\n      <td>1591006564269</td>\n      <td>62</td>\n      <td>1591006504353</td>\n      <td>1591006563555</td>\n      <td>2020-06-01 10:15:04.353</td>\n      <td>2020-06-01 10:16:03.555</td>\n    </tr>\n    <tr>\n      <th>8</th>\n      <td>corridor</td>\n      <td>lamp + 50mA IR</td>\n      <td>0</td>\n      <td>2.0</td>\n      <td>1591006409169</td>\n      <td>1591006475297</td>\n      <td>66</td>\n      <td>1591006410353</td>\n      <td>1591006473555</td>\n      <td>2020-06-01 10:13:30.353</td>\n      <td>2020-06-01 10:14:33.555</td>\n    </tr>\n    <tr>\n      <th>9</th>\n      <td>corridor</td>\n      <td>lamp + 50mA IR</td>\n      <td>0</td>\n      <td>3.0</td>\n      <td>1591006322666</td>\n      <td>1591006391426</td>\n      <td>69</td>\n      <td>1591006324353</td>\n      <td>1591006389555</td>\n      <td>2020-06-01 10:12:04.353</td>\n      <td>2020-06-01 10:13:09.555</td>\n    </tr>\n    <tr>\n      <th>10</th>\n      <td>corridor</td>\n      <td>lamp + 50mA IR</td>\n      <td>0</td>\n      <td>4.0</td>\n      <td>1591006226599</td>\n      <td>1591006301900</td>\n      <td>75</td>\n      <td>1591006228353</td>\n      <td>1591006301555</td>\n      <td>2020-06-01 10:10:28.353</td>\n      <td>2020-06-01 10:11:41.555</td>\n    </tr>\n    <tr>\n      <th>11</th>\n      <td>corridor</td>\n      <td>lamp + 50mA IR</td>\n      <td>0</td>\n      <td>5.0</td>\n      <td>1591006139462</td>\n      <td>1591006202667</td>\n      <td>63</td>\n      <td>1591006140353</td>\n      <td>1591006201555</td>\n      <td>2020-06-01 10:09:00.353</td>\n      <td>2020-06-01 10:10:01.555</td>\n    </tr>\n  </tbody>\n</table>\n</div>"
     },
     "metadata": {},
     "execution_count": 6
    }
   ],
   "source": [
    "timing = pd.read_csv(timing_path)\n",
    "timing.dropna(inplace=True)\n",
    "timing['aligned_start_ms'] = timing['start time'] + 2000 - ((timing['start time'] - min_ms) % 2000) - 100\n",
    "timing['aligned_end_ms'] = timing['end time'] - ((timing['end time'] - max_ms) % 2000) + 100\n",
    "timing['start_ts'] = pd.to_datetime(timing['aligned_start_ms'], unit='ms')\n",
    "timing['end_ts'] = pd.to_datetime(timing['aligned_end_ms'], unit='ms')\n",
    "timing"
   ]
  },
  {
   "cell_type": "markdown",
   "metadata": {},
   "source": [
    "Classify received timestamps as correct if the absolute difference is less than 200 ms."
   ]
  },
  {
   "cell_type": "code",
   "execution_count": 7,
   "metadata": {},
   "outputs": [],
   "source": [
    "data['correct'] = data['diff'].abs() < 200"
   ]
  },
  {
   "cell_type": "markdown",
   "metadata": {},
   "source": [
    "Save processed data for evaluation."
   ]
  },
  {
   "cell_type": "code",
   "execution_count": 8,
   "metadata": {},
   "outputs": [],
   "source": [
    "data.to_csv('processed_data/corridor_ir_led.csv')"
   ]
  },
  {
   "cell_type": "code",
   "execution_count": null,
   "metadata": {},
   "outputs": [],
   "source": []
  }
 ],
 "metadata": {
  "language_info": {
   "codemirror_mode": {
    "name": "ipython",
    "version": 3
   },
   "file_extension": ".py",
   "mimetype": "text/x-python",
   "name": "python",
   "nbconvert_exporter": "python",
   "pygments_lexer": "ipython3",
   "version": "3.8.2-final"
  },
  "orig_nbformat": 2,
  "kernelspec": {
   "name": "python38264bitfypconda91aff31bbec64a55a42bb6aae456906d",
   "display_name": "Python 3.8.2 64-bit ('fyp': conda)"
  }
 },
 "nbformat": 4,
 "nbformat_minor": 2
}