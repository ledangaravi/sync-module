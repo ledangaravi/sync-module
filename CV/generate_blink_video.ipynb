{
 "cells": [
  {
   "cell_type": "markdown",
   "metadata": {},
   "source": [
    "# Generate Random Blink Video\n",
    "\n",
    "Create a video with randomly blinking spots to increase the difficulty for the computer vision."
   ]
  },
  {
   "cell_type": "code",
   "execution_count": null,
   "metadata": {},
   "outputs": [],
   "source": [
    "import cv2\n",
    "import numpy as np\n",
    "import random"
   ]
  },
  {
   "cell_type": "code",
   "execution_count": null,
   "metadata": {},
   "outputs": [],
   "source": [
    "random.seed(0)\n",
    "\n",
    "width = 1080#1920\n",
    "height = 1920#1080\n",
    "fps = 10\n",
    "video_length = 480 * fps\n",
    "\n",
    "max_number_of_dots = 5\n",
    "max_radius = 80\n",
    "max_duration_frames = fps\n",
    "fixed_location = (int(width/2), int(height/2))\n",
    "fixed_radius = 20\n",
    "fixed_color = (0,0,255)\n",
    "thickness = -1\n",
    "dots = []\n",
    "\n",
    "\n",
    "fourcc = cv2.VideoWriter_fourcc(*'MP4V')\n",
    "out = cv2.VideoWriter('random_blink_tall.mp4', fourcc, fps, (width,height))\n",
    "\n",
    "for _ in range(video_length):\n",
    "    frame = np.zeros((height,width,3), np.uint8)\n",
    "    \n",
    "    if len(dots) < max_number_of_dots:\n",
    "        if random.randint(0,4) == 0:\n",
    "            radius = random.randint(0,max_radius)\n",
    "            center_coordinates = (random.randint(0+radius,width-radius), random.randint(0+radius,height-radius))\n",
    "            color = (random.randint(0,255), random.randint(0,255), random.randint(0,255)) \n",
    "            duration = random.randint(1,max_duration_frames)\n",
    "            dots.append((radius, center_coordinates, color, duration))\n",
    "        \n",
    "    for i, (radius, center_coordinates, color, duration) in enumerate(dots):\n",
    "        dots[i] = (radius, center_coordinates, color, duration-1)\n",
    "        frame = cv2.circle(frame, center_coordinates, radius, color, thickness)\n",
    "\n",
    "    dots = [x for x in dots if x[3] > 0]    #only keep the ones with a positive duration\n",
    "\n",
    "    if random.randint(0,1):\n",
    "        frame = cv2.circle(frame, fixed_location, fixed_radius, fixed_color, thickness)\n",
    "\n",
    "\n",
    "    out.write(frame)\n",
    "    cv2.imshow('Frame',frame)\n",
    "    if cv2.waitKey(1) & 0xFF == ord('q'):\n",
    "        break\n",
    "\n",
    "out.release()\n",
    "cv2.destroyAllWindows()"
   ]
  },
  {
   "cell_type": "code",
   "execution_count": null,
   "metadata": {},
   "outputs": [],
   "source": []
  }
 ],
 "metadata": {
  "language_info": {
   "codemirror_mode": {
    "name": "ipython",
    "version": 3
   },
   "file_extension": ".py",
   "mimetype": "text/x-python",
   "name": "python",
   "nbconvert_exporter": "python",
   "pygments_lexer": "ipython3",
   "version": "3.8.2-final"
  },
  "orig_nbformat": 2,
  "kernelspec": {
   "name": "python38264bitfypconda91aff31bbec64a55a42bb6aae456906d",
   "display_name": "Python 3.8.2 64-bit ('fyp': conda)"
  }
 },
 "nbformat": 4,
 "nbformat_minor": 2
}