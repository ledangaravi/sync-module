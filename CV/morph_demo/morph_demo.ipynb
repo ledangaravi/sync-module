{
 "cells": [
  {
   "cell_type": "code",
   "execution_count": 1,
   "metadata": {},
   "outputs": [],
   "source": [
    "import numpy as np\n",
    "import cv2"
   ]
  },
  {
   "cell_type": "code",
   "execution_count": 2,
   "metadata": {},
   "outputs": [],
   "source": [
    "img = cv2.imread('logo.png')\n",
    "\n",
    "kernel = np.ones((8,8),np.uint8)\n",
    "erosion = cv2.erode(img,kernel,iterations = 1)\n",
    "dilation = cv2.dilate(img,kernel,iterations = 1)\n",
    "\n",
    "img = cv2.imread('logo_dots.png')\n",
    "opening1 = cv2.erode(img,kernel,iterations = 1)\n",
    "opening2 = cv2.dilate(opening1,kernel,iterations = 1)\n",
    "opening = cv2.morphologyEx(img, cv2.MORPH_OPEN, kernel)\n",
    "\n",
    "img = cv2.imread('logo_holes.png')\n",
    "closing1 = cv2.dilate(img,kernel,iterations = 1)\n",
    "closing2 = cv2.erode(closing1,kernel,iterations = 1)\n",
    "closing = cv2.morphologyEx(img, cv2.MORPH_CLOSE, kernel)\n",
    "\n",
    "\n",
    "both = cv2.imread('logo_both.png')\n",
    "openclose = cv2.morphologyEx(cv2.morphologyEx(both, cv2.MORPH_OPEN, kernel), cv2.MORPH_CLOSE, kernel)\n",
    "closeopen = cv2.morphologyEx(cv2.morphologyEx(both, cv2.MORPH_CLOSE, kernel), cv2.MORPH_OPEN, kernel) "
   ]
  },
  {
   "cell_type": "code",
   "execution_count": 23,
   "metadata": {},
   "outputs": [
    {
     "output_type": "execute_result",
     "data": {
      "text/plain": "-1"
     },
     "metadata": {},
     "execution_count": 23
    }
   ],
   "source": [
    "cv2.imshow('erosion', erosion)\n",
    "cv2.imshow('dilation', dilation)\n",
    "cv2.imshow('opening', opening)\n",
    "cv2.imshow('closing', closing)\n",
    "cv2.imshow('openclose', openclose)\n",
    "cv2.imshow('closeopen', closeopen)\n",
    "cv2.waitKey(0)"
   ]
  },
  {
   "cell_type": "code",
   "execution_count": 24,
   "metadata": {},
   "outputs": [
    {
     "output_type": "execute_result",
     "data": {
      "text/plain": "True"
     },
     "metadata": {},
     "execution_count": 24
    }
   ],
   "source": [
    "cv2.imwrite('erosion.png', erosion)\n",
    "cv2.imwrite('dilation.png', dilation)\n",
    "cv2.imwrite('opening.png', opening)\n",
    "cv2.imwrite('closing.png', closing)\n",
    "cv2.imwrite('openclose.png', openclose)\n",
    "cv2.imwrite('closeopen.png', closeopen)"
   ]
  },
  {
   "cell_type": "code",
   "execution_count": 3,
   "metadata": {},
   "outputs": [
    {
     "output_type": "execute_result",
     "data": {
      "text/plain": "True"
     },
     "metadata": {},
     "execution_count": 3
    }
   ],
   "source": [
    "\n",
    "cv2.imwrite('opening1.png', opening1)\n",
    "cv2.imwrite('opening2.png', opening2)\n",
    "cv2.imwrite('closing1.png', closing1)\n",
    "cv2.imwrite('closing2.png', closing2)"
   ]
  },
  {
   "cell_type": "code",
   "execution_count": null,
   "metadata": {},
   "outputs": [],
   "source": []
  }
 ],
 "metadata": {
  "language_info": {
   "codemirror_mode": {
    "name": "ipython",
    "version": 3
   },
   "file_extension": ".py",
   "mimetype": "text/x-python",
   "name": "python",
   "nbconvert_exporter": "python",
   "pygments_lexer": "ipython3",
   "version": "3.8.2-final"
  },
  "orig_nbformat": 2,
  "kernelspec": {
   "name": "python38264bitfypconda91aff31bbec64a55a42bb6aae456906d",
   "display_name": "Python 3.8.2 64-bit ('fyp': conda)"
  }
 },
 "nbformat": 4,
 "nbformat_minor": 2
}